{
 "cells": [
  {
   "cell_type": "code",
   "execution_count": 4,
   "metadata": {},
   "outputs": [],
   "source": [
    "from nltk import ngrams"
   ]
  },
  {
   "cell_type": "code",
   "execution_count": 5,
   "metadata": {},
   "outputs": [
    {
     "data": {
      "text/plain": [
       "['i', 'hope', 'you', 'are', 'you', 'are', 'doing', 'well']"
      ]
     },
     "execution_count": 5,
     "metadata": {},
     "output_type": "execute_result"
    }
   ],
   "source": [
    "text = \"i hope you are you are doing well\"\n",
    "words = text.split(' ')\n",
    "words"
   ]
  },
  {
   "cell_type": "code",
   "execution_count": 6,
   "metadata": {},
   "outputs": [
    {
     "data": {
      "text/plain": [
       "'!\"#$%&\\'()*+,-./:;<=>?@[\\\\]^_`{|}~'"
      ]
     },
     "execution_count": 6,
     "metadata": {},
     "output_type": "execute_result"
    }
   ],
   "source": [
    "from string import punctuation as punc\n",
    "punc"
   ]
  },
  {
   "cell_type": "code",
   "execution_count": 7,
   "metadata": {},
   "outputs": [
    {
     "data": {
      "text/plain": [
       "['nothing',\n",
       " 'in',\n",
       " 'hers',\n",
       " 'though',\n",
       " 'than',\n",
       " 'three',\n",
       " 'done',\n",
       " 'whose',\n",
       " 'becomes',\n",
       " 'take',\n",
       " 'below',\n",
       " 'wherein',\n",
       " 'whom',\n",
       " 'into',\n",
       " 'becoming',\n",
       " 'is',\n",
       " 'keep',\n",
       " 'thereupon',\n",
       " 'if',\n",
       " 'front',\n",
       " 'i',\n",
       " 'either',\n",
       " 'part',\n",
       " 'this',\n",
       " 'might',\n",
       " 'it',\n",
       " 'per',\n",
       " 'besides',\n",
       " 'six',\n",
       " 'why',\n",
       " 'move',\n",
       " 'me',\n",
       " 'my',\n",
       " 'towards',\n",
       " 'yet',\n",
       " 'give',\n",
       " 'about',\n",
       " 'anyone',\n",
       " 'am',\n",
       " 'beside',\n",
       " 'beyond',\n",
       " 'mine',\n",
       " 'twelve',\n",
       " 'ours',\n",
       " 'very',\n",
       " 'all',\n",
       " 'we',\n",
       " 'someone',\n",
       " 'whereupon',\n",
       " 'mill',\n",
       " 'neither',\n",
       " 'over',\n",
       " 'such',\n",
       " 'the',\n",
       " 'few',\n",
       " 'fill',\n",
       " 'there',\n",
       " 'they',\n",
       " 'where',\n",
       " 'can',\n",
       " 'always',\n",
       " 'she',\n",
       " 'call',\n",
       " 'was',\n",
       " 'around',\n",
       " 'behind',\n",
       " 'less',\n",
       " 'serious',\n",
       " 'which',\n",
       " 'fifteen',\n",
       " 'from',\n",
       " 'a',\n",
       " 'five',\n",
       " 'afterwards',\n",
       " 'former',\n",
       " 'every',\n",
       " 'four',\n",
       " 'con',\n",
       " 'both',\n",
       " 'him',\n",
       " 'nine',\n",
       " 'onto',\n",
       " 'to',\n",
       " 'under',\n",
       " 'yourself',\n",
       " 'others',\n",
       " 'been',\n",
       " 'could',\n",
       " 'enough',\n",
       " 'everything',\n",
       " 'its',\n",
       " 'throughout',\n",
       " 'become',\n",
       " 'whatever',\n",
       " 'nowhere',\n",
       " 'still',\n",
       " 'whole',\n",
       " 'go',\n",
       " 'yours',\n",
       " 'how',\n",
       " 'beforehand',\n",
       " 'more',\n",
       " 'thus',\n",
       " 'through',\n",
       " 'whereafter',\n",
       " 'next',\n",
       " 'nevertheless',\n",
       " 'therefore',\n",
       " 'with',\n",
       " 'until',\n",
       " 'everyone',\n",
       " 'system',\n",
       " 'eleven',\n",
       " 'otherwise',\n",
       " 'de',\n",
       " 'once',\n",
       " 'mostly',\n",
       " 'name',\n",
       " 'amoungst',\n",
       " 'alone',\n",
       " 'so',\n",
       " 'themselves',\n",
       " 'what',\n",
       " 're',\n",
       " 'became',\n",
       " 'two',\n",
       " 'sixty',\n",
       " 'your',\n",
       " 'ever',\n",
       " 'were',\n",
       " 'be',\n",
       " 'by',\n",
       " 'himself',\n",
       " 'because',\n",
       " 'indeed',\n",
       " 'empty',\n",
       " 'across',\n",
       " 'at',\n",
       " 'had',\n",
       " 'somewhere',\n",
       " 'find',\n",
       " 'off',\n",
       " 'us',\n",
       " 'herein',\n",
       " 'myself',\n",
       " 'when',\n",
       " 'own',\n",
       " 'has',\n",
       " 'further',\n",
       " 'before',\n",
       " 'sometime',\n",
       " 'describe',\n",
       " 'fire',\n",
       " 'these',\n",
       " 'etc',\n",
       " 'up',\n",
       " 'within',\n",
       " 'while',\n",
       " 'never',\n",
       " 'thin',\n",
       " 'top',\n",
       " 'hereafter',\n",
       " 'least',\n",
       " 'everywhere',\n",
       " 'whereas',\n",
       " 'inc',\n",
       " 'thereby',\n",
       " 'due',\n",
       " 'wherever',\n",
       " 'not',\n",
       " 'or',\n",
       " 'whenever',\n",
       " 'much',\n",
       " 'ourselves',\n",
       " 'eight',\n",
       " 'anything',\n",
       " 'perhaps',\n",
       " 'none',\n",
       " 'show',\n",
       " 'seem',\n",
       " 'sincere',\n",
       " 'whither',\n",
       " 'many',\n",
       " 'well',\n",
       " 'co',\n",
       " 'eg',\n",
       " 'one',\n",
       " 'cry',\n",
       " 'their',\n",
       " 'herself',\n",
       " 'already',\n",
       " 'seems',\n",
       " 'hereupon',\n",
       " 'have',\n",
       " 'ie',\n",
       " 'hereby',\n",
       " 'also',\n",
       " 'however',\n",
       " 'somehow',\n",
       " 'amongst',\n",
       " 'do',\n",
       " 'full',\n",
       " 'meanwhile',\n",
       " 'above',\n",
       " 'out',\n",
       " 'fifty',\n",
       " 'yourselves',\n",
       " 'another',\n",
       " 'latterly',\n",
       " 'nor',\n",
       " 'and',\n",
       " 'most',\n",
       " 'against',\n",
       " 'other',\n",
       " 'ten',\n",
       " 'hence',\n",
       " 'who',\n",
       " 'last',\n",
       " 'upon',\n",
       " 'any',\n",
       " 'anyway',\n",
       " 'are',\n",
       " 'sometimes',\n",
       " 'anyhow',\n",
       " 'he',\n",
       " 'although',\n",
       " 'found',\n",
       " 'itself',\n",
       " 'her',\n",
       " 'some',\n",
       " 'then',\n",
       " 'thereafter',\n",
       " 'too',\n",
       " 'almost',\n",
       " 'amount',\n",
       " 'no',\n",
       " 'elsewhere',\n",
       " 'see',\n",
       " 'being',\n",
       " 'noone',\n",
       " 'nobody',\n",
       " 'since',\n",
       " 'something',\n",
       " 'else',\n",
       " 'may',\n",
       " 'among',\n",
       " 'anywhere',\n",
       " 'thru',\n",
       " 'whoever',\n",
       " 'without',\n",
       " 'get',\n",
       " 'latter',\n",
       " 'first',\n",
       " 'put',\n",
       " 'seeming',\n",
       " 'but',\n",
       " 'formerly',\n",
       " 'you',\n",
       " 'made',\n",
       " 'after',\n",
       " 'whence',\n",
       " 'again',\n",
       " 'cannot',\n",
       " 'must',\n",
       " 'our',\n",
       " 'between',\n",
       " 'of',\n",
       " 'third',\n",
       " 'whereby',\n",
       " 'thick',\n",
       " 'back',\n",
       " 'detail',\n",
       " 'therein',\n",
       " 'during',\n",
       " 'ltd',\n",
       " 'same',\n",
       " 'together',\n",
       " 'now',\n",
       " 'down',\n",
       " 'twenty',\n",
       " 'couldnt',\n",
       " 'un',\n",
       " 'would',\n",
       " 'bottom',\n",
       " 'will',\n",
       " 'only',\n",
       " 'those',\n",
       " 'hasnt',\n",
       " 'on',\n",
       " 'bill',\n",
       " 'side',\n",
       " 'thence',\n",
       " 'even',\n",
       " 'for',\n",
       " 'rather',\n",
       " 'namely',\n",
       " 'moreover',\n",
       " 'as',\n",
       " 'cant',\n",
       " 'each',\n",
       " 'except',\n",
       " 'that',\n",
       " 'seemed',\n",
       " 'interest',\n",
       " 'toward',\n",
       " 'his',\n",
       " 'along',\n",
       " 'an',\n",
       " 'should',\n",
       " 'them',\n",
       " 'via',\n",
       " 'whether',\n",
       " 'here',\n",
       " 'forty',\n",
       " 'several',\n",
       " 'hundred',\n",
       " 'often',\n",
       " 'please']"
      ]
     },
     "execution_count": 7,
     "metadata": {},
     "output_type": "execute_result"
    }
   ],
   "source": [
    "from sklearn.feature_extraction import stop_words\n",
    "list(stop_words.ENGLISH_STOP_WORDS)"
   ]
  },
  {
   "cell_type": "code",
   "execution_count": 8,
   "metadata": {},
   "outputs": [
    {
     "name": "stdout",
     "output_type": "stream",
     "text": [
      "unigrams [('i',), ('hope',), ('you',), ('are',), ('you',), ('are',), ('doing',), ('well',)]\n",
      "bigrams [('i', 'hope'), ('hope', 'you'), ('you', 'are'), ('are', 'you'), ('you', 'are'), ('are', 'doing'), ('doing', 'well')]\n",
      "trigrams [('i', 'hope', 'you'), ('hope', 'you', 'are'), ('you', 'are', 'you'), ('are', 'you', 'are'), ('you', 'are', 'doing'), ('are', 'doing', 'well')]\n"
     ]
    }
   ],
   "source": [
    "words = words[:100]\n",
    "unigrams = list(ngrams(words, 1))\n",
    "bigrams = list(ngrams(words, 2))\n",
    "trigrams = list(ngrams(words, 3))\n",
    "print(\"unigrams\", unigrams)\n",
    "print(\"bigrams\", bigrams)\n",
    "print(\"trigrams\", trigrams)"
   ]
  },
  {
   "cell_type": "code",
   "execution_count": 9,
   "metadata": {},
   "outputs": [
    {
     "data": {
      "text/plain": [
       "<PorterStemmer>"
      ]
     },
     "execution_count": 9,
     "metadata": {},
     "output_type": "execute_result"
    }
   ],
   "source": [
    "from nltk.stem import PorterStemmer\n",
    "ps = PorterStemmer() # doing the porterstemer in it\n",
    "ps"
   ]
  },
  {
   "cell_type": "code",
   "execution_count": 10,
   "metadata": {},
   "outputs": [
    {
     "name": "stdout",
     "output_type": "stream",
     "text": [
      "i\n",
      "hope\n",
      "you\n",
      "are\n",
      "you\n",
      "are\n",
      "do\n",
      "well\n"
     ]
    }
   ],
   "source": [
    "for word in words:\n",
    "    print(ps.stem(word))"
   ]
  },
  {
   "cell_type": "code",
   "execution_count": 11,
   "metadata": {},
   "outputs": [
    {
     "data": {
      "text/plain": [
       "<WordNetLemmatizer>"
      ]
     },
     "execution_count": 11,
     "metadata": {},
     "output_type": "execute_result"
    }
   ],
   "source": [
    "from nltk.stem import WordNetLemmatizer\n",
    "wl = WordNetLemmatizer()\n",
    "wl"
   ]
  },
  {
   "cell_type": "code",
   "execution_count": 22,
   "metadata": {},
   "outputs": [
    {
     "name": "stdout",
     "output_type": "stream",
     "text": [
      "i\n",
      "hope\n",
      "you\n",
      "be\n",
      "you\n",
      "be\n",
      "do\n",
      "well\n"
     ]
    }
   ],
   "source": [
    "for word in words:\n",
    "    print(wl.lemmatize(word, 'v'))"
   ]
  },
  {
   "cell_type": "code",
   "execution_count": 23,
   "metadata": {},
   "outputs": [
    {
     "data": {
      "text/plain": [
       "[('i', 'NNS'),\n",
       " ('hope', 'VBP'),\n",
       " ('you', 'PRP'),\n",
       " ('are', 'VBP'),\n",
       " ('you', 'PRP'),\n",
       " ('are', 'VBP'),\n",
       " ('doing', 'VBG'),\n",
       " ('well', 'RB')]"
      ]
     },
     "execution_count": 23,
     "metadata": {},
     "output_type": "execute_result"
    }
   ],
   "source": [
    "from nltk import pos_tag\n",
    "tags = pos_tag(words)\n",
    "tags"
   ]
  },
  {
   "cell_type": "code",
   "execution_count": 12,
   "metadata": {},
   "outputs": [
    {
     "name": "stderr",
     "output_type": "stream",
     "text": [
      "[nltk_data] Downloading package averaged_perceptron_tagger to\n",
      "[nltk_data]     C:\\Users\\Mackrugeri\\AppData\\Roaming\\nltk_data...\n",
      "[nltk_data] Error downloading 'averaged_perceptron_tagger' from\n",
      "[nltk_data]     <https://raw.githubusercontent.com/nltk/nltk_data/gh-p\n",
      "[nltk_data]     ages/packages/taggers/averaged_perceptron_tagger.zip>:\n",
      "[nltk_data]     <urlopen error [Errno 11001] getaddrinfo failed>\n"
     ]
    },
    {
     "data": {
      "text/plain": [
       "False"
      ]
     },
     "execution_count": 12,
     "metadata": {},
     "output_type": "execute_result"
    }
   ],
   "source": [
    "import nltk\n",
    "nltk.download('averaged_perceptron_tagger')"
   ]
  },
  {
   "cell_type": "code",
   "execution_count": 13,
   "metadata": {},
   "outputs": [
    {
     "name": "stderr",
     "output_type": "stream",
     "text": [
      "[nltk_data] Downloading package wordnet to\n",
      "[nltk_data]     C:\\Users\\Mackrugeri\\AppData\\Roaming\\nltk_data...\n",
      "[nltk_data]   Unzipping corpora\\wordnet.zip.\n"
     ]
    },
    {
     "data": {
      "text/plain": [
       "True"
      ]
     },
     "execution_count": 13,
     "metadata": {},
     "output_type": "execute_result"
    }
   ],
   "source": [
    "import nltk\n",
    "nltk.download('wordnet')"
   ]
  },
  {
   "cell_type": "code",
   "execution_count": 14,
   "metadata": {},
   "outputs": [
    {
     "name": "stdout",
     "output_type": "stream",
     "text": [
      "unigrams:  [('i',), ('hope',), ('you',), ('are',), ('you',), ('are',), ('doing',), ('well',)]\n",
      "bigrams:  [('i', 'hope'), ('hope', 'you'), ('you', 'are'), ('are', 'you'), ('you', 'are'), ('are', 'doing'), ('doing', 'well')]\n",
      "trigrams:  [('i', 'hope', 'you'), ('hope', 'you', 'are'), ('you', 'are', 'you'), ('are', 'you', 'are'), ('you', 'are', 'doing'), ('are', 'doing', 'well')]\n"
     ]
    }
   ],
   "source": [
    "print('unigrams: ', unigrams)\n",
    "print('bigrams: ', bigrams)\n",
    "print('trigrams: ', trigrams)"
   ]
  },
  {
   "cell_type": "code",
   "execution_count": 15,
   "metadata": {},
   "outputs": [
    {
     "data": {
      "text/plain": [
       "[0.16666666666666666,\n",
       " 0.16666666666666666,\n",
       " 0.3333333333333333,\n",
       " 0.3333333333333333,\n",
       " 0.3333333333333333,\n",
       " 0.3333333333333333,\n",
       " 0.16666666666666666,\n",
       " 0.16666666666666666]"
      ]
     },
     "execution_count": 15,
     "metadata": {},
     "output_type": "execute_result"
    }
   ],
   "source": [
    "unigrams_freq = [words.count(x)/len(set(words)) for x in words]\n",
    "unigrams_freq"
   ]
  },
  {
   "cell_type": "code",
   "execution_count": 16,
   "metadata": {},
   "outputs": [
    {
     "data": {
      "text/plain": [
       "('i', 'hope')"
      ]
     },
     "execution_count": 16,
     "metadata": {},
     "output_type": "execute_result"
    }
   ],
   "source": [
    "bigrams[0]"
   ]
  },
  {
   "cell_type": "code",
   "execution_count": 17,
   "metadata": {},
   "outputs": [
    {
     "data": {
      "text/plain": [
       "[1.0, 1.0, 1.0, 0.5, 1.0, 0.5, 1.0]"
      ]
     },
     "execution_count": 17,
     "metadata": {},
     "output_type": "execute_result"
    }
   ],
   "source": [
    "bigrams_freq = []\n",
    "for b in bigrams:\n",
    "    temp = bigrams.count(b)\n",
    "    temp2 = words.count(b[0])\n",
    "    bigrams_freq.append(temp/temp2)\n",
    "bigrams_freq    "
   ]
  },
  {
   "cell_type": "code",
   "execution_count": 18,
   "metadata": {},
   "outputs": [
    {
     "data": {
      "text/plain": [
       "[1.0, 1.0, 0.5, 1.0, 0.5, 1.0]"
      ]
     },
     "execution_count": 18,
     "metadata": {},
     "output_type": "execute_result"
    }
   ],
   "source": [
    "trigrams_freq = [trigrams.count(x)/bigrams.count(x[:2]) for x in trigrams]\n",
    "trigrams_freq"
   ]
  },
  {
   "cell_type": "code",
   "execution_count": 19,
   "metadata": {},
   "outputs": [],
   "source": [
    "from nltk.corpus import brown"
   ]
  },
  {
   "cell_type": "code",
   "execution_count": 20,
   "metadata": {},
   "outputs": [
    {
     "ename": "LookupError",
     "evalue": "\n**********************************************************************\n  Resource \u001b[93mbrown\u001b[0m not found.\n  Please use the NLTK Downloader to obtain the resource:\n\n  \u001b[31m>>> import nltk\n  >>> nltk.download('brown')\n  \u001b[0m\n  For more information see: https://www.nltk.org/data.html\n\n  Attempted to load \u001b[93mcorpora/brown\u001b[0m\n\n  Searched in:\n    - 'C:\\\\Users\\\\Mackrugeri/nltk_data'\n    - 'C:\\\\Users\\\\Mackrugeri\\\\Anaconda3\\\\nltk_data'\n    - 'C:\\\\Users\\\\Mackrugeri\\\\Anaconda3\\\\share\\\\nltk_data'\n    - 'C:\\\\Users\\\\Mackrugeri\\\\Anaconda3\\\\lib\\\\nltk_data'\n    - 'C:\\\\Users\\\\Mackrugeri\\\\AppData\\\\Roaming\\\\nltk_data'\n    - 'C:\\\\nltk_data'\n    - 'D:\\\\nltk_data'\n    - 'E:\\\\nltk_data'\n**********************************************************************\n",
     "output_type": "error",
     "traceback": [
      "\u001b[1;31m---------------------------------------------------------------------------\u001b[0m",
      "\u001b[1;31mLookupError\u001b[0m                               Traceback (most recent call last)",
      "\u001b[1;32m~\\Anaconda3\\lib\\site-packages\\nltk\\corpus\\util.py\u001b[0m in \u001b[0;36m__load\u001b[1;34m(self)\u001b[0m\n\u001b[0;32m     85\u001b[0m                 \u001b[1;32mtry\u001b[0m\u001b[1;33m:\u001b[0m\u001b[1;33m\u001b[0m\u001b[0m\n\u001b[1;32m---> 86\u001b[1;33m                     \u001b[0mroot\u001b[0m \u001b[1;33m=\u001b[0m \u001b[0mnltk\u001b[0m\u001b[1;33m.\u001b[0m\u001b[0mdata\u001b[0m\u001b[1;33m.\u001b[0m\u001b[0mfind\u001b[0m\u001b[1;33m(\u001b[0m\u001b[1;34m'{}/{}'\u001b[0m\u001b[1;33m.\u001b[0m\u001b[0mformat\u001b[0m\u001b[1;33m(\u001b[0m\u001b[0mself\u001b[0m\u001b[1;33m.\u001b[0m\u001b[0msubdir\u001b[0m\u001b[1;33m,\u001b[0m \u001b[0mzip_name\u001b[0m\u001b[1;33m)\u001b[0m\u001b[1;33m)\u001b[0m\u001b[1;33m\u001b[0m\u001b[0m\n\u001b[0m\u001b[0;32m     87\u001b[0m                 \u001b[1;32mexcept\u001b[0m \u001b[0mLookupError\u001b[0m\u001b[1;33m:\u001b[0m\u001b[1;33m\u001b[0m\u001b[0m\n",
      "\u001b[1;32m~\\Anaconda3\\lib\\site-packages\\nltk\\data.py\u001b[0m in \u001b[0;36mfind\u001b[1;34m(resource_name, paths)\u001b[0m\n\u001b[0;32m    700\u001b[0m     \u001b[0mresource_not_found\u001b[0m \u001b[1;33m=\u001b[0m \u001b[1;34m'\\n%s\\n%s\\n%s\\n'\u001b[0m \u001b[1;33m%\u001b[0m \u001b[1;33m(\u001b[0m\u001b[0msep\u001b[0m\u001b[1;33m,\u001b[0m \u001b[0mmsg\u001b[0m\u001b[1;33m,\u001b[0m \u001b[0msep\u001b[0m\u001b[1;33m)\u001b[0m\u001b[1;33m\u001b[0m\u001b[0m\n\u001b[1;32m--> 701\u001b[1;33m     \u001b[1;32mraise\u001b[0m \u001b[0mLookupError\u001b[0m\u001b[1;33m(\u001b[0m\u001b[0mresource_not_found\u001b[0m\u001b[1;33m)\u001b[0m\u001b[1;33m\u001b[0m\u001b[0m\n\u001b[0m\u001b[0;32m    702\u001b[0m \u001b[1;33m\u001b[0m\u001b[0m\n",
      "\u001b[1;31mLookupError\u001b[0m: \n**********************************************************************\n  Resource \u001b[93mbrown\u001b[0m not found.\n  Please use the NLTK Downloader to obtain the resource:\n\n  \u001b[31m>>> import nltk\n  >>> nltk.download('brown')\n  \u001b[0m\n  For more information see: https://www.nltk.org/data.html\n\n  Attempted to load \u001b[93mcorpora/brown.zip/brown/\u001b[0m\n\n  Searched in:\n    - 'C:\\\\Users\\\\Mackrugeri/nltk_data'\n    - 'C:\\\\Users\\\\Mackrugeri\\\\Anaconda3\\\\nltk_data'\n    - 'C:\\\\Users\\\\Mackrugeri\\\\Anaconda3\\\\share\\\\nltk_data'\n    - 'C:\\\\Users\\\\Mackrugeri\\\\Anaconda3\\\\lib\\\\nltk_data'\n    - 'C:\\\\Users\\\\Mackrugeri\\\\AppData\\\\Roaming\\\\nltk_data'\n    - 'C:\\\\nltk_data'\n    - 'D:\\\\nltk_data'\n    - 'E:\\\\nltk_data'\n**********************************************************************\n",
      "\nDuring handling of the above exception, another exception occurred:\n",
      "\u001b[1;31mLookupError\u001b[0m                               Traceback (most recent call last)",
      "\u001b[1;32m<ipython-input-20-bc96f2d50bf7>\u001b[0m in \u001b[0;36m<module>\u001b[1;34m()\u001b[0m\n\u001b[1;32m----> 1\u001b[1;33m \u001b[0mwords\u001b[0m \u001b[1;33m=\u001b[0m \u001b[0mbrown\u001b[0m\u001b[1;33m.\u001b[0m\u001b[0mwords\u001b[0m\u001b[1;33m(\u001b[0m\u001b[0mcategories\u001b[0m \u001b[1;33m=\u001b[0m \u001b[1;34m'news'\u001b[0m\u001b[1;33m)\u001b[0m\u001b[1;33m\u001b[0m\u001b[0m\n\u001b[0m",
      "\u001b[1;32m~\\Anaconda3\\lib\\site-packages\\nltk\\corpus\\util.py\u001b[0m in \u001b[0;36m__getattr__\u001b[1;34m(self, attr)\u001b[0m\n\u001b[0;32m    121\u001b[0m             \u001b[1;32mraise\u001b[0m \u001b[0mAttributeError\u001b[0m\u001b[1;33m(\u001b[0m\u001b[1;34m\"LazyCorpusLoader object has no attribute '__bases__'\"\u001b[0m\u001b[1;33m)\u001b[0m\u001b[1;33m\u001b[0m\u001b[0m\n\u001b[0;32m    122\u001b[0m \u001b[1;33m\u001b[0m\u001b[0m\n\u001b[1;32m--> 123\u001b[1;33m         \u001b[0mself\u001b[0m\u001b[1;33m.\u001b[0m\u001b[0m__load\u001b[0m\u001b[1;33m(\u001b[0m\u001b[1;33m)\u001b[0m\u001b[1;33m\u001b[0m\u001b[0m\n\u001b[0m\u001b[0;32m    124\u001b[0m         \u001b[1;31m# This looks circular, but its not, since __load() changes our\u001b[0m\u001b[1;33m\u001b[0m\u001b[1;33m\u001b[0m\u001b[0m\n\u001b[0;32m    125\u001b[0m         \u001b[1;31m# __class__ to something new:\u001b[0m\u001b[1;33m\u001b[0m\u001b[1;33m\u001b[0m\u001b[0m\n",
      "\u001b[1;32m~\\Anaconda3\\lib\\site-packages\\nltk\\corpus\\util.py\u001b[0m in \u001b[0;36m__load\u001b[1;34m(self)\u001b[0m\n\u001b[0;32m     86\u001b[0m                     \u001b[0mroot\u001b[0m \u001b[1;33m=\u001b[0m \u001b[0mnltk\u001b[0m\u001b[1;33m.\u001b[0m\u001b[0mdata\u001b[0m\u001b[1;33m.\u001b[0m\u001b[0mfind\u001b[0m\u001b[1;33m(\u001b[0m\u001b[1;34m'{}/{}'\u001b[0m\u001b[1;33m.\u001b[0m\u001b[0mformat\u001b[0m\u001b[1;33m(\u001b[0m\u001b[0mself\u001b[0m\u001b[1;33m.\u001b[0m\u001b[0msubdir\u001b[0m\u001b[1;33m,\u001b[0m \u001b[0mzip_name\u001b[0m\u001b[1;33m)\u001b[0m\u001b[1;33m)\u001b[0m\u001b[1;33m\u001b[0m\u001b[0m\n\u001b[0;32m     87\u001b[0m                 \u001b[1;32mexcept\u001b[0m \u001b[0mLookupError\u001b[0m\u001b[1;33m:\u001b[0m\u001b[1;33m\u001b[0m\u001b[0m\n\u001b[1;32m---> 88\u001b[1;33m                     \u001b[1;32mraise\u001b[0m \u001b[0me\u001b[0m\u001b[1;33m\u001b[0m\u001b[0m\n\u001b[0m\u001b[0;32m     89\u001b[0m \u001b[1;33m\u001b[0m\u001b[0m\n\u001b[0;32m     90\u001b[0m         \u001b[1;31m# Load the corpus.\u001b[0m\u001b[1;33m\u001b[0m\u001b[1;33m\u001b[0m\u001b[0m\n",
      "\u001b[1;32m~\\Anaconda3\\lib\\site-packages\\nltk\\corpus\\util.py\u001b[0m in \u001b[0;36m__load\u001b[1;34m(self)\u001b[0m\n\u001b[0;32m     81\u001b[0m         \u001b[1;32melse\u001b[0m\u001b[1;33m:\u001b[0m\u001b[1;33m\u001b[0m\u001b[0m\n\u001b[0;32m     82\u001b[0m             \u001b[1;32mtry\u001b[0m\u001b[1;33m:\u001b[0m\u001b[1;33m\u001b[0m\u001b[0m\n\u001b[1;32m---> 83\u001b[1;33m                 \u001b[0mroot\u001b[0m \u001b[1;33m=\u001b[0m \u001b[0mnltk\u001b[0m\u001b[1;33m.\u001b[0m\u001b[0mdata\u001b[0m\u001b[1;33m.\u001b[0m\u001b[0mfind\u001b[0m\u001b[1;33m(\u001b[0m\u001b[1;34m'{}/{}'\u001b[0m\u001b[1;33m.\u001b[0m\u001b[0mformat\u001b[0m\u001b[1;33m(\u001b[0m\u001b[0mself\u001b[0m\u001b[1;33m.\u001b[0m\u001b[0msubdir\u001b[0m\u001b[1;33m,\u001b[0m \u001b[0mself\u001b[0m\u001b[1;33m.\u001b[0m\u001b[0m__name\u001b[0m\u001b[1;33m)\u001b[0m\u001b[1;33m)\u001b[0m\u001b[1;33m\u001b[0m\u001b[0m\n\u001b[0m\u001b[0;32m     84\u001b[0m             \u001b[1;32mexcept\u001b[0m \u001b[0mLookupError\u001b[0m \u001b[1;32mas\u001b[0m \u001b[0me\u001b[0m\u001b[1;33m:\u001b[0m\u001b[1;33m\u001b[0m\u001b[0m\n\u001b[0;32m     85\u001b[0m                 \u001b[1;32mtry\u001b[0m\u001b[1;33m:\u001b[0m\u001b[1;33m\u001b[0m\u001b[0m\n",
      "\u001b[1;32m~\\Anaconda3\\lib\\site-packages\\nltk\\data.py\u001b[0m in \u001b[0;36mfind\u001b[1;34m(resource_name, paths)\u001b[0m\n\u001b[0;32m    699\u001b[0m     \u001b[0msep\u001b[0m \u001b[1;33m=\u001b[0m \u001b[1;34m'*'\u001b[0m \u001b[1;33m*\u001b[0m \u001b[1;36m70\u001b[0m\u001b[1;33m\u001b[0m\u001b[0m\n\u001b[0;32m    700\u001b[0m     \u001b[0mresource_not_found\u001b[0m \u001b[1;33m=\u001b[0m \u001b[1;34m'\\n%s\\n%s\\n%s\\n'\u001b[0m \u001b[1;33m%\u001b[0m \u001b[1;33m(\u001b[0m\u001b[0msep\u001b[0m\u001b[1;33m,\u001b[0m \u001b[0mmsg\u001b[0m\u001b[1;33m,\u001b[0m \u001b[0msep\u001b[0m\u001b[1;33m)\u001b[0m\u001b[1;33m\u001b[0m\u001b[0m\n\u001b[1;32m--> 701\u001b[1;33m     \u001b[1;32mraise\u001b[0m \u001b[0mLookupError\u001b[0m\u001b[1;33m(\u001b[0m\u001b[0mresource_not_found\u001b[0m\u001b[1;33m)\u001b[0m\u001b[1;33m\u001b[0m\u001b[0m\n\u001b[0m\u001b[0;32m    702\u001b[0m \u001b[1;33m\u001b[0m\u001b[0m\n\u001b[0;32m    703\u001b[0m \u001b[1;33m\u001b[0m\u001b[0m\n",
      "\u001b[1;31mLookupError\u001b[0m: \n**********************************************************************\n  Resource \u001b[93mbrown\u001b[0m not found.\n  Please use the NLTK Downloader to obtain the resource:\n\n  \u001b[31m>>> import nltk\n  >>> nltk.download('brown')\n  \u001b[0m\n  For more information see: https://www.nltk.org/data.html\n\n  Attempted to load \u001b[93mcorpora/brown\u001b[0m\n\n  Searched in:\n    - 'C:\\\\Users\\\\Mackrugeri/nltk_data'\n    - 'C:\\\\Users\\\\Mackrugeri\\\\Anaconda3\\\\nltk_data'\n    - 'C:\\\\Users\\\\Mackrugeri\\\\Anaconda3\\\\share\\\\nltk_data'\n    - 'C:\\\\Users\\\\Mackrugeri\\\\Anaconda3\\\\lib\\\\nltk_data'\n    - 'C:\\\\Users\\\\Mackrugeri\\\\AppData\\\\Roaming\\\\nltk_data'\n    - 'C:\\\\nltk_data'\n    - 'D:\\\\nltk_data'\n    - 'E:\\\\nltk_data'\n**********************************************************************\n"
     ]
    }
   ],
   "source": [
    "words = brown.words(categories = 'news')"
   ]
  },
  {
   "cell_type": "code",
   "execution_count": null,
   "metadata": {},
   "outputs": [],
   "source": [
    "len(words)"
   ]
  },
  {
   "cell_type": "code",
   "execution_count": null,
   "metadata": {},
   "outputs": [],
   "source": []
  }
 ],
 "metadata": {
  "kernelspec": {
   "display_name": "Python 3",
   "language": "python",
   "name": "python3"
  },
  "language_info": {
   "codemirror_mode": {
    "name": "ipython",
    "version": 3
   },
   "file_extension": ".py",
   "mimetype": "text/x-python",
   "name": "python",
   "nbconvert_exporter": "python",
   "pygments_lexer": "ipython3",
   "version": "3.6.5"
  }
 },
 "nbformat": 4,
 "nbformat_minor": 4
}
