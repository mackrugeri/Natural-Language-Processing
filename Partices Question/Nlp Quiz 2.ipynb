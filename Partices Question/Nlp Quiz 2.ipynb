{
 "cells": [
  {
   "cell_type": "code",
   "execution_count": 10,
   "metadata": {},
   "outputs": [],
   "source": [
    "#all imports here\n",
    "import re\n",
    "from sklearn.feature_extraction.text import CountVectorizer\n",
    "from sklearn.feature_extraction.text import TfidfVectorizer\n",
    "from sklearn.tree import DecisionTreeClassifier\n",
    "from sklearn.model_selection import train_test_split\n",
    "from sklearn.metrics import accuracy_score\n",
    "from sklearn.metrics import precision_score\n",
    "from sklearn.metrics import confusion_matrix\n",
    "from sklearn.metrics import recall_score \n",
    "from sklearn.metrics import f1_score"
   ]
  },
  {
   "cell_type": "code",
   "execution_count": 43,
   "metadata": {},
   "outputs": [
    {
     "name": "stdout",
     "output_type": "stream",
     "text": [
      "The Score of Accuracy:  0.785 \n",
      "\n",
      "The Score of Precision:  0.785 \n",
      "\n",
      "The Score of Recall:  0.785 \n",
      "\n",
      "The Score of f1:  0.785 \n",
      "\n",
      "The Required  Confusion matrix\n",
      " [[ 12   0   0   0   0]\n",
      " [ 11   0   0   0   0]\n",
      " [  0   0  15   0   0]\n",
      " [  0   0   0   0  32]\n",
      " [  0   0   0   0 130]]\n"
     ]
    },
    {
     "name": "stderr",
     "output_type": "stream",
     "text": [
      "C:\\Users\\Mackrugeri\\Anaconda3\\lib\\site-packages\\sklearn\\model_selection\\_split.py:2026: FutureWarning: From version 0.21, test_size will always complement train_size unless both are specified.\n",
      "  FutureWarning)\n"
     ]
    }
   ],
   "source": [
    "import re\n",
    "from sklearn.feature_extraction.text import CountVectorizer\n",
    "from sklearn.feature_extraction.text import TfidfVectorizer\n",
    "from sklearn.tree import DecisionTreeClassifier\n",
    "from sklearn.model_selection import train_test_split\n",
    "from sklearn.metrics import accuracy_score\n",
    "from sklearn.metrics import precision_score\n",
    "from sklearn.metrics import confusion_matrix\n",
    "from sklearn.metrics import recall_score \n",
    "from sklearn.metrics import f1_score\n",
    "\n",
    "def accuracy_finding(test_y,labels):\n",
    "    print('The Score of Accuracy: ', accuracy_score(test_y, labels), '\\n')  \n",
    "\n",
    "def precision_finding(test_y,labels):\n",
    "    print('The Score of Precision: ',precision_score(test_y, labels, average = 'micro'), '\\n')\n",
    "def recalling_finding(test_y,labels):\n",
    "    print('The Score of Recall: ',recall_score(test_y, labels, average = 'micro'), '\\n')\n",
    "def f1_finding(test_y,labels):\n",
    "    print('The Score of f1: ',f1_score(test_y, labels, average = 'micro'), '\\n')\n",
    "def confusion_finding(test_y,labels):\n",
    "    print('The Required  Confusion matrix\\n',confusion_matrix(test_y, labels))\n",
    "label = []\n",
    "y = []\n",
    "\n",
    "def complete_processing():\n",
    "    corpus = open('Movies_TV.txt').read()\n",
    "    rows = corpus.split('\\n')\n",
    "    rows.remove(rows[0])\n",
    "    rows.remove(rows[-1])\n",
    "    for row in rows:\n",
    "        _, labels, ratings, _ = row.split('\\t')\n",
    "        label.append(labels)\n",
    "        y.append(ratings)\n",
    "    vec = CountVectorizer(min_df = 8)\n",
    "    X = vec.fit_transform(label)\n",
    "    vec = TfidfVectorizer(min_df = 8)\n",
    "    matrix_X = vec.fit_transform(label)\n",
    "    dtc = DecisionTreeClassifier(max_depth = 8)\n",
    "    train_x, test_x, train_y, test_y = train_test_split(matrix_X, y, shuffle = True, train_size = 0.8)\n",
    "    dtc.fit(train_x, train_y)\n",
    "    labels = dtc.predict(test_x)\n",
    "\n",
    "    accuracy_finding(test_y,labels)\n",
    "    precision_finding(test_y,labels)\n",
    "    recalling_finding(test_y,labels)\n",
    "    f1_finding(test_y,labels)\n",
    "    confusion_finding(test_y,labels)\n",
    "complete_processing()\n"
   ]
  },
  {
   "cell_type": "code",
   "execution_count": null,
   "metadata": {},
   "outputs": [],
   "source": []
  }
 ],
 "metadata": {
  "kernelspec": {
   "display_name": "Python 3",
   "language": "python",
   "name": "python3"
  },
  "language_info": {
   "codemirror_mode": {
    "name": "ipython",
    "version": 3
   },
   "file_extension": ".py",
   "mimetype": "text/x-python",
   "name": "python",
   "nbconvert_exporter": "python",
   "pygments_lexer": "ipython3",
   "version": "3.6.5"
  }
 },
 "nbformat": 4,
 "nbformat_minor": 2
}
