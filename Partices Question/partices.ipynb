{
 "cells": [
  {
   "cell_type": "code",
   "execution_count": 5,
   "metadata": {},
   "outputs": [
    {
     "name": "stdout",
     "output_type": "stream",
     "text": [
      "Accuracy:  0.765 \n",
      "\n",
      "Recall:  0.765 \n",
      "\n",
      "Precision:  0.765 \n",
      "\n",
      "F1-score:  0.765 \n",
      "\n",
      "Confusion matrix\n",
      " [[ 13   0   0   0   0]\n",
      " [  6   0   0   0   0]\n",
      " [  0   0  14   0   0]\n",
      " [  0   0   0   0  41]\n",
      " [  0   0   0   0 126]]\n"
     ]
    },
    {
     "name": "stderr",
     "output_type": "stream",
     "text": [
      "C:\\Users\\Mackrugeri\\Anaconda3\\lib\\site-packages\\sklearn\\model_selection\\_split.py:2026: FutureWarning: From version 0.21, test_size will always complement train_size unless both are specified.\n",
      "  FutureWarning)\n"
     ]
    }
   ],
   "source": [
    "import re\n",
    "from sklearn.feature_extraction.text import CountVectorizer\n",
    "from sklearn.feature_extraction.text import TfidfVectorizer\n",
    "from sklearn.tree import DecisionTreeClassifier\n",
    "from sklearn.model_selection import train_test_split\n",
    "from sklearn.metrics import accuracy_score, precision_score, confusion_matrix, recall_score, f1_score\n",
    "class DataEvaluation:\n",
    "    def __init__(self,path):\n",
    "        self.corpus = open(path).read()\n",
    "        self.label = []\n",
    "        self.rating = []\n",
    "        self.x = []\n",
    "        self.arrangeData()\n",
    "    def arrangeData(self):\n",
    "        self.corpus = re.sub(r'Domain.*\\n', '', self.corpus)\n",
    "        rows = self.corpus.split('\\n')\n",
    "        rows.remove(rows[-1])\n",
    "        for row in rows:\n",
    "            _, labels, ratings, _ = row.split('\\t')\n",
    "            self.label.append(labels)\n",
    "            self.rating.append(ratings)\n",
    "    def CountVectorizer(self):\n",
    "        vec = CountVectorizer(min_df = 8)\n",
    "        self.X = vec.fit_transform(self.label)\n",
    "    def TfidfVectorizer(self):\n",
    "        vec = TfidfVectorizer(min_df = 8)\n",
    "        self.X = vec.fit_transform(self.label)\n",
    "    def DecisionTreeClassification(self):\n",
    "        dtc = DecisionTreeClassifier(max_depth = 8)\n",
    "        train_x, test_x, train_y, test_y = train_test_split(self.X, self.rating, shuffle=True, train_size = 0.8)\n",
    "        dtc.fit(train_x, train_y)\n",
    "        labels = dtc.predict(test_x)\n",
    "        return [test_y, labels]\n",
    "    def Evaluation(self):\n",
    "        self.CountVectorizer()\n",
    "        list1 = self.DecisionTreeClassification()\n",
    "        acc = accuracy_score(list1[0], list1[1])\n",
    "        pre = precision_score(list1[0], list1[1], average = 'micro')\n",
    "        rec = recall_score(list1[0], list1[1], average = 'micro')\n",
    "        f1s = f1_score(list1[0], list1[1], average = 'micro')\n",
    "        print('Accuracy: ', acc, '\\n')\n",
    "        print('Recall: ', rec,'\\n')\n",
    "        print('Precision: ', pre, '\\n')\n",
    "        print('F1-score: ', f1s, '\\n')\n",
    "        print('Confusion matrix\\n',confusion_matrix(list1[0], list1[1]))\n",
    "        \n",
    "if __name__ == \"__main__\":\n",
    "    obj = DataEvaluation('Movies_TV.txt')\n",
    "    obj.Evaluation()\n"
   ]
  },
  {
   "cell_type": "code",
   "execution_count": null,
   "metadata": {},
   "outputs": [],
   "source": []
  },
  {
   "cell_type": "code",
   "execution_count": null,
   "metadata": {},
   "outputs": [],
   "source": []
  }
 ],
 "metadata": {
  "kernelspec": {
   "display_name": "Python 3",
   "language": "python",
   "name": "python3"
  },
  "language_info": {
   "codemirror_mode": {
    "name": "ipython",
    "version": 3
   },
   "file_extension": ".py",
   "mimetype": "text/x-python",
   "name": "python",
   "nbconvert_exporter": "python",
   "pygments_lexer": "ipython3",
   "version": "3.6.5"
  }
 },
 "nbformat": 4,
 "nbformat_minor": 2
}
