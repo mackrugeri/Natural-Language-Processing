{
 "cells": [
  {
   "cell_type": "code",
   "execution_count": null,
   "metadata": {},
   "outputs": [
    {
     "name": "stdout",
     "output_type": "stream",
     "text": [
      "UniGram\n",
      "[[0 0 0 ..., 0 0 0]\n",
      " [0 0 0 ..., 0 0 0]\n",
      " [0 0 0 ..., 0 0 0]\n",
      " ..., \n",
      " [0 0 0 ..., 0 0 0]\n",
      " [0 0 0 ..., 0 0 0]\n",
      " [0 0 0 ..., 0 0 0]]\n",
      "{'boy': 120, 'captain': 134, 'hook': 436, 'beautiful': 91, 'music': 577, 'disk': 254, 'last': 505, 'scene': 751, 'episode': 298, 'earth': 273, 'miss': 564, 'instead': 469, 'cut': 208, 'appear': 60, 'title': 901, 'die': 243, 'guess': 407, 'another': 55, 'parent': 622, 'question': 691, 'son': 812, 'cartoon': 137, 'wonderful': 980, 'animation': 52, 'excellent': 313, 'though': 891, 'may': 549, 'comment': 175, 'correct': 198, 'style': 849, 'hate': 417, 'point': 655, 'longer': 531, '50': 8, 'decade': 225, 'long': 530, 'course': 200, 'such': 850, 'depth': 236, 'each': 270, 'storyline': 841, 'aside': 67, 'delightful': 231, 'especially': 301, 'clean': 163, 'itself': 481, 'entertaining': 295, 'plot': 653, 'twist': 925, 'happen': 413, 'wand': 955, 'hand': 412, 'try': 920, 'prove': 684, 'without': 977, 'magical': 535, 'hold': 432, 'own': 617, 'version': 942, 'attempt': 70, 'form': 370, 'entertainment': 296, 'however': 441, 'part': 623, 'change': 147, 'mouse': 573, 'annoying': 54, 'enough': 293, 'mention': 555, 'nice': 588, 'woman': 978, 'fight': 346, 'dream': 263, 'prince': 675, 'personality': 638, 'recommend': 712, 'those': 890, 'intelligent': 471, 'themselves': 886, 'hope': 437, 'sci': 753, 'fi': 344, 'tv': 923, 'once': 608, 'rose': 739, 'awesome': 77, 'bbc': 86, 'win': 973, 'definitely': 229, 'let': 517, 'down': 258, 'compare': 179, 'company': 178, 'nothing': 596, 'else': 284, 'except': 314, 'price': 674, 'should': 783, 'due': 267, 'computer': 183, 'none': 592, 'song': 813, 'reviewer': 729, 'need': 585, 'widescreen': 970, 'true': 918, '1953': 4, 'follow': 365, 'marry': 542, 'both': 117, 'century': 142, 'king': 499, 'full': 381, 'either': 282, 'quite': 694, 'possibly': 664, 'standard': 828, 'yet': 996, 'item': 480, 'produce': 680, 'lady': 501, 'beauty': 92, 'please': 652, 'fact': 326, 'straight': 842, 'strong': 844, '2nd': 6, 'add': 20, 'library': 519, 'childhood': 155, 'experience': 319, 'appeal': 59, 'rather': 698, 'platinum': 650, 'edition': 279, 'extra': 322, 'worth': 988, 'purchase': 687, 'self': 763, 'picture': 641, 'digital': 246, 'mix': 565, 'animated': 51, 'collector': 169, 'consider': 190, 'camera': 133, 'often': 603, 'feel': 340, 'work': 983, 'mind': 561, 'eye': 324, 'return': 725, 'himself': 429, 'second': 760, 'season': 758, 'exciting': 316, 'dramatic': 261, 'same': 745, 'family': 331, 'might': 560, 'alien': 33, 'concern': 185, 'day': 220, 'stand': 827, 'right': 731, 'believe': 99, 'amazon': 43, 'english': 291, 'sound': 817, 'store': 840, 'thrill': 894, 'send': 766, 'grandson': 402, 'birthday': 105, 'until': 935, 'review': 728, 'before': 94, 'remember': 718, 'older': 607, 'laugh': 508, 'special': 820, 'effect': 280, 'wait': 953, 'next': 587, 'wrong': 994, 'feature': 338, 'pirate': 644, 'indians': 463, 'mermaid': 556, 'ruin': 741, 'case': 138, 'masterpiece': 545, 'close': 167, 'number': 599, 'list': 524, 'studio': 845, 'beat': 89, 'brilliant': 124, 'away': 76, 'extremely': 323, 'pace': 618, 'waste': 956, 'frame': 375, 'challenge': 145, 'beast': 88, 'far': 334, 'despite': 237, 'almost': 36, 'young': 997, 'neverland': 586, 'place': 647, 'reality': 705, 'word': 982, 'simply': 788, 'imagination': 453, 'wendy': 961, 'john': 489, 'michael': 558, 'actual': 18, 'fly': 361, 'across': 14, 'complaint': 180, 'read': 703, 'stereotype': 837, 'native': 582, 'americans': 46, 'always': 41, 'concept': 184, 'indian': 462, 'real': 704, 'american': 45, 'live': 527, 'hard': 416, 'imagine': 454, 'crew': 205, 'battle': 85, 'reason': 707, 'write': 991, 'tend': 877, 'small': 801, 'clever': 166, 'adult': 23, 'lose': 532, 'act': 15, 'easily': 274, 'ok': 605, 'bit': 106, 'capture': 135, 'life': 520, 'seem': 762, 'problem': 679, 'front': 380, 'tinker': 899, 'bell': 100, 'kill': 497, 'murder': 576, 'although': 40, 'bother': 118, 'grow': 406, 'society': 807, 'set': 773, 'decide': 227, 'literally': 526, 'every': 305, 'big': 102, 'smee': 803, 'reveal': 727, 'lesson': 516, 'personal': 637, 'fantasy': 333, 'adventure': 24, 'com': 173, 'recently': 710, 'greatest': 403, 'idea': 447, 'everyone': 306, 'ignore': 449, 'daughter': 218, 'pop': 659, 'reach': 702, 'here': 423, 'anything': 57, 'nor': 593, 'where': 964, 'etc': 302, 'funny': 383, 'glad': 394, 'collection': 168, 'christopher': 161, 'eccleston': 276, 'wonder': 979, 'clear': 164, 'yes': 995, 'hit': 431, 'contain': 193, '13': 3, 'plus': 654, 'christmas': 160, 'usual': 938, 'include': 460, 'everything': 307, 'clearly': 165, 'roll': 736, 'restoration': 722, 'enjoyable': 292, 'around': 64, 'perfect': 631, 'sarah': 746, 'walt': 954, 'crocodile': 206, 'rock': 734, 'younger': 998, 'mother': 572, 'lead': 510, 'darling': 216, 'london': 529, 'land': 502, 'ship': 779, 'stupid': 848, 'fall': 329, 'age': 26, 'top': 908, 'order': 613, 'sequence': 769, 'highlight': 427, 'jealous': 486, 'fairy': 328, 'stage': 826, 'mary': 544, 'martin': 543, 'unlike': 934, 'lot': 533, 'deep': 228, 'color': 171, 'detail': 238, 'brand': 121, 'home': 435, 'restore': 723, 'informative': 465, 'audio': 74, 'commentary': 176, 'roy': 740, 'kathryn': 494, 'beaumont': 90, 'animator': 53, 'late': 506, 'voice': 951, 'bobby': 110, 'driscoll': 264, 'hour': 439, 'bonus': 113, 'material': 547, 'behind': 97, 'documentary': 255, 'why': 968, 'history': 430, 'delete': 230, 'opening': 611, 'complete': 181, 'dark': 215, 'game': 387, 'flight': 360, 'colorful': 172, 'moment': 567, 'scary': 750, 'vault': 941, 'forget': 369, 'major': 538, 'female': 342, 'racist': 696, 'people': 630, 'three': 893, 'ask': 68, 'oh': 604, 'image': 452, 'folk': 364, 'forever': 368, 'bad': 79, 'tell': 876, 'guy': 409, 'explain': 320, 'tinkerbell': 900, 'pretty': 671, 'popular': 660, 'choose': 158, 'quality': 689, 'production': 683, 'begin': 95, 'girl': 393, 'chase': 151, 'particular': 624, 'll': 528, 'actually': 19, 'sure': 856, 'previous': 673, 'chris': 159, 'billie': 104, 'piper': 643, 'short': 782, 'inspire': 467, 'fus': 384, 'truly': 919, 'leave': 513, 'name': 580, 'explore': 321, 'green': 404, 'death': 224, 'companion': 177, 'feeling': 341, 'high': 426, 'line': 523, 'magic': 534, 'thoroughly': 889, 'care': 136, 'cyberman': 210, 'head': 418, 'stick': 838, 'us': 937, 'release': 716, 'box': 119, 'uk': 928, 'put': 688, 'wear': 958, 'tear': 872, 'perhaps': 634, 'minor': 562, 'suppose': 855, 'world': 985, 'television': 875, 'memory': 554, 'early': 272, 'keep': 495, 'fresh': 378, 'man': 540, 'russell': 743, 'davies': 219, 'modern': 566, 'cast': 139, 'role': 735, 'fill': 348, 'powerful': 667, 'remain': 717, 'different': 244, 'tom': 904, 'baker': 81, 'era': 299, 'something': 810, 'drop': 266, 'towards': 912, 'weird': 960, 'bring': 125, 'cybermen': 211, 'suck': 851, 'face': 325, 'rest': 721, 'move': 574, 'probably': 678, 'whole': 967, 'monster': 569, 'emotion': 285, 'package': 620, 'spoil': 823, 'mean': 551, 'surprise': 857, 'overall': 616, 'job': 488, 'open': 610, 'someone': 809, 'friend': 379, 'draw': 262, 'product': 682, 'step': 835, 'difficult': 245, 'half': 411, 'workout': 984, 'against': 25, 'otherwise': 614, 'shoot': 780, 'ability': 10, 'maybe': 550, 'joy': 492, 'understand': 930, 'thought': 892, 'delivery': 233, 'allow': 35, 'run': 742, 'result': 724, 'romantic': 737, 'stunning': 847, 'through': 896, 'school': 752, 'reunion': 726, 'fireplace': 355, 'sladen': 797, 'former': 372, 'jane': 484, 'main': 537, 'sneak': 805, 'night': 590, 'discover': 253, 'tardis': 869, 'turn': 922, 'realize': 706, 'quickly': 693, 'talk': 867, 'matter': 548, 'theme': 885, 'develop': 239, 'match': 546, 'tyler': 926, 'jackie': 483, 'charming': 150, 'mickey': 559, 'rise': 732, 'steel': 834, 'daleks': 212, 'finish': 353, 'army': 63, 'doomsday': 256, 'viewer': 946, 'heart': 420, 'british': 126, 'science': 754, 'fiction': 345, 'element': 283, 'humor': 444, 'planet': 649, 'continue': 194, 'four': 374, 'highly': 428, 'drama': 260, 'comedy': 174, 'together': 903, 'wish': 975, 'lack': 500, 'screen': 756, 'available': 75, 'aspect': 69, 'format': 371, 'present': 670, 'call': 132, 'level': 518, 'hollywood': 434, 'stop': 839, 'whatever': 963, 'these': 887, 'general': 389, 'sequel': 768, 'throw': 898, 'notice': 597, 'hole': 433, 'effort': 281, 'ride': 730, 'force': 367, 'husband': 446, 'indeed': 461, 'interesting': 475, 'remind': 719, 'cool': 196, 'kind': 498, 'anyway': 58, 'godmother': 396, 'deal': 222, 'perfectly': 632, 'fit': 356, 'situation': 794, 'note': 595, 'anyone': 56, 'wicked': 969, 'stepmother': 836, 'language': 503, 'speak': 819, 'willing': 972, 'disc': 252, 'player': 651, 'cover': 201, 'superb': 853, 'believable': 98, 'acting': 16, 'gene': 388, 'hackman': 410, 'technology': 874, 'government': 398, 'spy': 825, 'surveillance': 859, 'premise': 669, 'sense': 767, 'french': 377, 'gadget': 386, 'okay': 606, 'seriously': 771, 'edge': 277, 'seat': 759, 'help': 421, 'pass': 627, 'enemy': 288, 'state': 831, 'lawyer': 509, 'team': 871, 'stay': 832, 'alive': 34, 'future': 385, 'myself': 579, 'pack': 619, 'along': 37, 'script': 757, 'able': 11, 'politically': 657, 'intelligence': 470, 'grandchild': 400, 'chemistry': 154, 'between': 101, 'deliver': 232, 'iii': 451, 'anastasia': 49, 'happily': 414, 'check': 152, 'happy': 415, 'create': 202, 'share': 778, 'five': 357, 'certainly': 144, 'vhs': 943, 'fantastic': 332, 're': 701, 'exception': 315, 'must': 578, 'hemalayaa': 422, 'week': 959, 'start': 830, 'exercise': 317, 'minute': 563, '20': 5, 'third': 888, 'least': 512, 'dance': 213, 'yourself': 999, 'learn': 511, 'forward': 373, 'boring': 116, 'thank': 881, 'conspiracy': 191, 'characterization': 148, 'nearly': 584, 'writing': 993, 'view': 945, 'tune': 921, 'certain': 143, 'touch': 911, 'sweet': 863, 'bear': 87, 'usually': 939, 'portrayal': 662, 'single': 791, 'few': 343, 'red': 713, 'fire': 354, 'racism': 695, 'entertain': 294, 'edit': 278, 'flaw': 358, 'side': 784, 'figure': 347, 'stretch': 843, 'whether': 965, 'body': 111, 'air': 32, 'bore': 115, 'completely': 182, 'party': 626, 'spot': 824, '12': 2, 'limited': 522, 'issue': 479, 'snow': 806, 'white': 966, 'unfortunately': 931, 'provide': 685, 'worthy': 989, 'featurette': 339, 'amazing': 42, 'information': 464, 'piece': 642, 'among': 47, 'stuff': 846, 'sing': 789, 'hunt': 445, 'easy': 275, 'already': 38, 'worry': 986, 'prefer': 668, 'theatrical': 884, 'free': 376, 'inside': 466, 'addition': 21, 'finally': 351, 'cute': 209, 'creative': 203, 'depiction': 235, 'non': 591, 'writer': 992, 'trouble': 917, 'period': 635, 'performance': 633, 'actor': 17, 'surround': 858, 'support': 854, 'final': 349, 'admit': 22, 'spend': 821, 'money': 568, 'interested': 474, 'direct': 247, 'room': 738, 'save': 749, 'tale': 865, 'gorgeous': 397, 'wow': 990, 'recent': 709, 'terrible': 879, 'alternate': 39, 'device': 240, 'arrive': 65, '10': 0, 'sister': 792, 'plan': 648, 'soon': 814, 'serious': 770, 'similar': 786, 'tone': 905, 'credit': 204, 'rate': 697, 'star': 829, 'worst': 987, 'invasion': 477, 'joke': 490, 'tooth': 907, 'claw': 162, 'queen': 690, 'victoria': 944, 'werewolf': 962, 'torchwood': 909, 'steal': 833, 'villain': 948, 'ex': 310, 'obvious': 600, 'involve': 478, 'rating': 699, 'human': 443, 'universe': 933, 'past': 628, 'decent': 226, 'recognize': 711, 'idiot': 448, 'lantern': 504, 'impossible': 457, 'fear': 337, 'satan': 747, 'pit': 645, 'conclusion': 186, 'monsters': 570, 'mostly': 571, 'bag': 80, 'silly': 785, 'reference': 714, 'expect': 318, 'meet': 552, 'huge': 442, 'build': 131, 'foe': 363, 'shame': 777, 'terrific': 880, 'dr': 259, 'introduce': 476, 'fast': 335, 'emotional': 286, 'smart': 802, 'several': 775, 'jump': 493, 'later': 507, 'twice': 924, 'thriller': 895, 'flick': 359, 'brill': 123, 'conversation': 195, 'memorable': 553, 'suspense': 860, 'receive': 708, 'mr': 575, 'book': 114, 'father': 336, 'hear': 419, 'rent': 720, 'totally': 910, 'simple': 787, 'incarnation': 459, 'finale': 350, 'within': 976, 'gift': 392, 'important': 456, 'transfer': 914, 'light': 521, 'sell': 764, 'shadow': 776, 'track': 913, 'making': 539, 'unique': 932, 'talent': 866, 'listen': 525, 'smile': 804, 'fine': 352, 'fail': 327, 'condition': 187, 'skip': 796, 'service': 772, 'disappoint': 250, 'date': 217, 'person': 636, 'jerry': 487, 'treat': 916, 'weak': 957, 'couple': 199, 'ghosts': 391, 'today': 902, 'ago': 29, 'attention': 71, 'jack': 482, 'black': 107, 'ii': 450, 'quick': 692, 'evil': 309, 'horrible': 438, 'foot': 366, 'glass': 395, 'slipper': 799, 'animal': 50, 'theater': 883, 'wife': 971, 'barrie': 83, 'spirit': 822, 'sort': 816, 'catch': 140, 'portray': 661, 'visit': 949, 'window': 974, 'background': 78, 'hero': 424, 'pixie': 646, 'dust': 269, 'teach': 870, 'america': 44, '11': 1, 'during': 268, 'pick': 640, 'less': 515, 'earlier': 271, 'beginning': 96, 'focus': 362, 'tech': 873, 'privacy': 677, 'ending': 287, 'voight': 952, 'political': 656, 'art': 66, 'thanks': 882, 'princess': 676, 'herself': 425, 'cheesy': 153, 'disappointed': 251, 'poor': 658, 'agency': 27, 'nsa': 598, 'generation': 390, 'appreciate': 61, 'bollywood': 112, 'attitude': 72, 'jon': 491, 'evidence': 308, 'congressman': 189, 'blow': 108, 'satellite': 748, 'phone': 639, 'national': 581, 'security': 761, 'copy': 197, 'mail': 536, 'dancing': 214, 'type': 927, 'normal': 594, 'doubt': 257, 'blu': 109, 'ray': 700, 'college': 170, 'tape': 868, 'near': 583, 'example': 312, 'director': 249, 'dialogue': 241, 'dean': 223, 'become': 93, 'group': 405, 'chance': 146, 'intense': 472, 'house': 440, 'onto': 609, 'approach': 62, '70': 9, 'gus': 408, 'above': 12, 'robert': 733, 'jason': 485, 'lee': 514, 'agent': 28, 'bruckheimer': 128, 'scott': 755, 'audience': 73, 'suspenseful': 861, 'grand': 399, 'sorry': 815, 'value': 940, 'seth': 774, 'kennedy': 496, 'immediately': 455, 'shop': 781, 'paranoid': 621, 'tony': 906, 'visual': 950, 'pull': 686, 'entire': 297, 'opinion': 612, 'absolutely': 13, 'nicely': 589, 'preview': 672, 'dead': 221, 'brother': 127, 'travel': 915, 'bambi': 82, 'producer': 681, 'improve': 458, 'ahead': 31, 'england': 290, 'budget': 129, 'slightly': 798, 'manage': 541, 'fully': 382, 'drive': 265, 'direction': 248, 'relationship': 715, 'children': 156, 'seller': 765, 'space': 818, 'engaging': 289, 'offer': 602, 'bill': 103, 'sad': 744, 'sit': 793, 'viewing': 947, 'message': 557, 'choice': 157, 'escape': 300, 'sometimes': 811, 'diary': 242, 'agree': 30, 'current': 207, 'sweat': 862, 'cause': 141, 'six': 795, 'confidential': 188, 'break': 122, 'amount': 48, 'singing': 790, 'throughout': 897, 'particularly': 625, 'power': 666, 'contact': 192, 'super': 852, 'pay': 629, '30': 7, 'instance': 468, 'familiar': 330, 'interest': 473, 'event': 303, 'charm': 149, 'obviously': 601, 'possible': 663, 'tenth': 878, 'exactly': 311, 'slow': 800, 'outside': 615, 'granddaughter': 401, 'base': 84, 'wonderfully': 981, 'depict': 234, 'under': 929, 'eventually': 304, 'system': 864, 'post': 665, 'upon': 936, 'somehow': 808, 'bug': 130}\n",
      "Bigram\n"
     ]
    }
   ],
   "source": [
    "from sklearn.feature_extraction.text import CountVectorizer\n",
    "from sklearn.feature_extraction.text import TfidfVectorizer\n",
    "\n",
    "corpus = open('Movies_TV.txt').read()\n",
    "import re\n",
    "corpus = re.sub(r'Domain.*\\n', '', corpus)\n",
    "rows = corpus.split('\\n')\n",
    "rows.remove(rows[-1])\n",
    "\n",
    "inputData, y = [], []\n",
    "for row in rows:\n",
    "    _, label, _, review = row.split('\\t')\n",
    "    inputData.append(review)\n",
    "    y.append(label)\n",
    "    \n",
    "    \n",
    "#unigram +Binary Based\n",
    "print(\"UniGram\")\n",
    "vec = CountVectorizer(ngram_range = (1, 1), max_features = 1000,binary=True,max_df=100,min_df=10)\n",
    "X = vec.fit_transform(inputData)\n",
    "print(X.toarray())\n",
    "print(vec.vocabulary_)\n",
    "#Bigram +Binary Based\n",
    "print(\"Bigram\")\n",
    "vec = CountVectorizer(ngram_range = (1, 2), max_features = 1000,binary=True,max_df=100,min_df=10)\n",
    "X = vec.fit_transform(inputData)\n",
    "print(X.toarray())\n",
    "print(vec.vocabulary_)\n",
    "#Trigram +Binary Based\n",
    "print(\"Trigram\")\n",
    "vec = CountVectorizer(ngram_range = (1, 3), max_features = 1000,binary=True,max_df=100,min_df=10)\n",
    "X = vec.fit_transform(inputData)\n",
    "print(X.toarray())\n",
    "print(vec.vocabulary_)\n",
    "\n",
    "#unigram +Frequency Based\n",
    "print(\"UniGram\")\n",
    "vec = CountVectorizer(ngram_range = (1, 1), max_features = 1000,max_df=100,min_df=10)\n",
    "X = vec.fit_transform(inputData)\n",
    "print(X.toarray())\n",
    "print(vec.vocabulary_)\n",
    "#Bigram +Frequency Based\n",
    "print(\"Bigram\")\n",
    "vec = CountVectorizer(ngram_range = (1, 2), max_features = 1000,max_df=100,min_df=10)\n",
    "X = vec.fit_transform(inputData)\n",
    "print(X.toarray())\n",
    "print(vec.vocabulary_)\n",
    "#Trigram +Frequency  Based\n",
    "print(\"Trigram\")\n",
    "vec = CountVectorizer(ngram_range = (1, 3), max_features = 1000,max_df=100,min_df=10)\n",
    "X = vec.fit_transform(inputData)\n",
    "print(X.toarray())\n",
    "print(vec.vocabulary_)\n",
    "\n",
    "#Unigram +Tfidf\n",
    "print(\"UniGram\")\n",
    "vec = CountVectorizer(ngram_range = (1, 1), max_features = 1000,max_df=100,min_df=10)\n",
    "matrix_X = tfidf.fit_transform(X)\n",
    "matrix_X.toarray()\n",
    "print(X.toarray())\n",
    "print(vec.vocabulary_)\n",
    "#Bigram +Tfidf\n",
    "print(\"UniGram\")\n",
    "vec = CountVectorizer(ngram_range = (1, 2), max_features = 1000,max_df=100,min_df=10)\n",
    "matrix_X = tfidf.fit_transform(X)\n",
    "matrix_X.toarray()\n",
    "print(X.toarray())\n",
    "print(vec.vocabulary_)\n",
    "#Trigram +Tfidf\n",
    "print(\"UniGram\")\n",
    "vec = CountVectorizer(ngram_range = (1, 3), max_features = 1000,max_df=100,min_df=10)\n",
    "matrix_X = tfidf.fit_transform(X)\n",
    "matrix_X.toarray()\n",
    "print(X.toarray())\n",
    "print(vec.vocabulary_)"
   ]
  },
  {
   "cell_type": "code",
   "execution_count": null,
   "metadata": {},
   "outputs": [],
   "source": [
    "vec = CountVectorizer(ngram_range = (1, 2), max_features = 1000,binary=True,max_df=100,min_df=10)\n",
    "X = vec.fit_transform(inputData)\n",
    "vec.vocabulary_"
   ]
  }
 ],
 "metadata": {
  "kernelspec": {
   "display_name": "Python 3",
   "language": "python",
   "name": "python3"
  },
  "language_info": {
   "codemirror_mode": {
    "name": "ipython",
    "version": 3
   },
   "file_extension": ".py",
   "mimetype": "text/x-python",
   "name": "python",
   "nbconvert_exporter": "python",
   "pygments_lexer": "ipython3",
   "version": "3.6.5"
  }
 },
 "nbformat": 4,
 "nbformat_minor": 2
}
